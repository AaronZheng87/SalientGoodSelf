{
 "cells": [
  {
   "cell_type": "code",
   "execution_count": 11,
   "metadata": {},
   "outputs": [],
   "source": [
    "from utils import *"
   ]
  },
  {
   "cell_type": "code",
   "execution_count": 2,
   "metadata": {},
   "outputs": [
    {
     "data": {
      "text/plain": [
       "make_scorer(score_func, needs_proba=True)"
      ]
     },
     "execution_count": 2,
     "metadata": {},
     "output_type": "execute_result"
    }
   ],
   "source": [
    "my_scores\n"
   ]
  },
  {
   "cell_type": "code",
   "execution_count": 3,
   "metadata": {},
   "outputs": [],
   "source": [
    "df_noref = pd.read_csv(\"/Users/zhengyuanrui/Decoding_SALT/Decode_SALT/2_Data/df_no_ref.csv\")"
   ]
  },
  {
   "cell_type": "code",
   "execution_count": 4,
   "metadata": {},
   "outputs": [],
   "source": [
    "X_norefc = df_noref.iloc[:, 8:11].values\n",
    "\n",
    "y_noref = df_noref[\"label\"].values\n",
    "\n",
    "norefcolc = df_noref.iloc[:, 8:11].columns"
   ]
  },
  {
   "cell_type": "code",
   "execution_count": 5,
   "metadata": {},
   "outputs": [],
   "source": [
    "groups_no = df_noref[\"Subject\"].values"
   ]
  },
  {
   "cell_type": "code",
   "execution_count": 6,
   "metadata": {},
   "outputs": [],
   "source": [
    "score_noc, im_noc, coef_noc = lr_within_task(X = X_norefc, y = y_noref, group = groups_no, source=\"No_Ref\")"
   ]
  },
  {
   "cell_type": "code",
   "execution_count": 7,
   "metadata": {},
   "outputs": [
    {
     "data": {
      "text/html": [
       "<div>\n",
       "<style scoped>\n",
       "    .dataframe tbody tr th:only-of-type {\n",
       "        vertical-align: middle;\n",
       "    }\n",
       "\n",
       "    .dataframe tbody tr th {\n",
       "        vertical-align: top;\n",
       "    }\n",
       "\n",
       "    .dataframe thead th {\n",
       "        text-align: right;\n",
       "    }\n",
       "</style>\n",
       "<table border=\"1\" class=\"dataframe\">\n",
       "  <thead>\n",
       "    <tr style=\"text-align: right;\">\n",
       "      <th></th>\n",
       "      <th>subID</th>\n",
       "      <th>score</th>\n",
       "      <th>source</th>\n",
       "      <th>target</th>\n",
       "    </tr>\n",
       "  </thead>\n",
       "  <tbody>\n",
       "    <tr>\n",
       "      <th>0</th>\n",
       "      <td>1001</td>\n",
       "      <td>0.627741</td>\n",
       "      <td>No_Ref</td>\n",
       "      <td>No_Ref</td>\n",
       "    </tr>\n",
       "    <tr>\n",
       "      <th>1</th>\n",
       "      <td>1002</td>\n",
       "      <td>0.586872</td>\n",
       "      <td>No_Ref</td>\n",
       "      <td>No_Ref</td>\n",
       "    </tr>\n",
       "    <tr>\n",
       "      <th>2</th>\n",
       "      <td>1003</td>\n",
       "      <td>0.564531</td>\n",
       "      <td>No_Ref</td>\n",
       "      <td>No_Ref</td>\n",
       "    </tr>\n",
       "    <tr>\n",
       "      <th>3</th>\n",
       "      <td>1004</td>\n",
       "      <td>0.519970</td>\n",
       "      <td>No_Ref</td>\n",
       "      <td>No_Ref</td>\n",
       "    </tr>\n",
       "    <tr>\n",
       "      <th>4</th>\n",
       "      <td>1005</td>\n",
       "      <td>0.626000</td>\n",
       "      <td>No_Ref</td>\n",
       "      <td>No_Ref</td>\n",
       "    </tr>\n",
       "    <tr>\n",
       "      <th>...</th>\n",
       "      <td>...</td>\n",
       "      <td>...</td>\n",
       "      <td>...</td>\n",
       "      <td>...</td>\n",
       "    </tr>\n",
       "    <tr>\n",
       "      <th>159</th>\n",
       "      <td>5237</td>\n",
       "      <td>0.586746</td>\n",
       "      <td>No_Ref</td>\n",
       "      <td>No_Ref</td>\n",
       "    </tr>\n",
       "    <tr>\n",
       "      <th>160</th>\n",
       "      <td>5238</td>\n",
       "      <td>0.543935</td>\n",
       "      <td>No_Ref</td>\n",
       "      <td>No_Ref</td>\n",
       "    </tr>\n",
       "    <tr>\n",
       "      <th>161</th>\n",
       "      <td>5239</td>\n",
       "      <td>0.543721</td>\n",
       "      <td>No_Ref</td>\n",
       "      <td>No_Ref</td>\n",
       "    </tr>\n",
       "    <tr>\n",
       "      <th>162</th>\n",
       "      <td>5240</td>\n",
       "      <td>0.553087</td>\n",
       "      <td>No_Ref</td>\n",
       "      <td>No_Ref</td>\n",
       "    </tr>\n",
       "    <tr>\n",
       "      <th>163</th>\n",
       "      <td>5242</td>\n",
       "      <td>0.522501</td>\n",
       "      <td>No_Ref</td>\n",
       "      <td>No_Ref</td>\n",
       "    </tr>\n",
       "  </tbody>\n",
       "</table>\n",
       "<p>164 rows × 4 columns</p>\n",
       "</div>"
      ],
      "text/plain": [
       "     subID     score  source  target\n",
       "0     1001  0.627741  No_Ref  No_Ref\n",
       "1     1002  0.586872  No_Ref  No_Ref\n",
       "2     1003  0.564531  No_Ref  No_Ref\n",
       "3     1004  0.519970  No_Ref  No_Ref\n",
       "4     1005  0.626000  No_Ref  No_Ref\n",
       "..     ...       ...     ...     ...\n",
       "159   5237  0.586746  No_Ref  No_Ref\n",
       "160   5238  0.543935  No_Ref  No_Ref\n",
       "161   5239  0.543721  No_Ref  No_Ref\n",
       "162   5240  0.553087  No_Ref  No_Ref\n",
       "163   5242  0.522501  No_Ref  No_Ref\n",
       "\n",
       "[164 rows x 4 columns]"
      ]
     },
     "execution_count": 7,
     "metadata": {},
     "output_type": "execute_result"
    }
   ],
   "source": [
    "score_noc"
   ]
  },
  {
   "cell_type": "code",
   "execution_count": null,
   "metadata": {},
   "outputs": [],
   "source": [
    "logi = make_pipeline(\n",
    "            MinMaxScaler(), \n",
    "            PolynomialFeatures(interaction_only=True, include_bias=False),\n",
    "            LogisticRegressionCV(Cs = np.logspace(-6, 3, 7), cv = 5, class_weight='balanced', \n",
    "                                 random_state=123, max_iter=5000, multi_class=\"ovr\"))"
   ]
  },
  {
   "cell_type": "code",
   "execution_count": 25,
   "metadata": {},
   "outputs": [],
   "source": [
    "from sklearn.preprocessing import PolynomialFeatures\n",
    "\n",
    "poly = PolynomialFeatures(interaction_only=True, include_bias=False)"
   ]
  },
  {
   "cell_type": "code",
   "execution_count": 26,
   "metadata": {},
   "outputs": [],
   "source": [
    "a = poly.fit_transform(df_noref.iloc[:, 8:11])\n",
    "\n"
   ]
  },
  {
   "cell_type": "code",
   "execution_count": 27,
   "metadata": {},
   "outputs": [
    {
     "data": {
      "text/plain": [
       "array([[1.000e+00, 1.065e+03, 0.000e+00, 1.065e+03, 0.000e+00, 0.000e+00],\n",
       "       [1.000e+00, 9.290e+02, 0.000e+00, 9.290e+02, 0.000e+00, 0.000e+00],\n",
       "       [0.000e+00, 8.800e+02, 1.000e+00, 0.000e+00, 0.000e+00, 8.800e+02],\n",
       "       ...,\n",
       "       [1.000e+00, 7.530e+02, 0.000e+00, 7.530e+02, 0.000e+00, 0.000e+00],\n",
       "       [1.000e+00, 6.650e+02, 1.000e+00, 6.650e+02, 1.000e+00, 6.650e+02],\n",
       "       [1.000e+00, 9.550e+02, 1.000e+00, 9.550e+02, 1.000e+00, 9.550e+02]])"
      ]
     },
     "execution_count": 27,
     "metadata": {},
     "output_type": "execute_result"
    }
   ],
   "source": [
    "a\n"
   ]
  },
  {
   "cell_type": "code",
   "execution_count": 30,
   "metadata": {},
   "outputs": [],
   "source": [
    "names = poly.get_feature_names_out(df_noref.iloc[:, 8:11].columns)\n"
   ]
  },
  {
   "cell_type": "code",
   "execution_count": 31,
   "metadata": {},
   "outputs": [
    {
     "data": {
      "text/plain": [
       "array(['ACC', 'RT', 'ismatch', 'ACC RT', 'ACC ismatch', 'RT ismatch'],\n",
       "      dtype=object)"
      ]
     },
     "execution_count": 31,
     "metadata": {},
     "output_type": "execute_result"
    }
   ],
   "source": [
    "names"
   ]
  },
  {
   "cell_type": "code",
   "execution_count": 32,
   "metadata": {},
   "outputs": [
    {
     "data": {
      "text/plain": [
       "Index(['ACC', 'RT', 'ismatch'], dtype='object')"
      ]
     },
     "execution_count": 32,
     "metadata": {},
     "output_type": "execute_result"
    }
   ],
   "source": [
    "df_noref.iloc[:, 8:11].columns\n"
   ]
  },
  {
   "cell_type": "code",
   "execution_count": null,
   "metadata": {},
   "outputs": [],
   "source": []
  }
 ],
 "metadata": {
  "kernelspec": {
   "display_name": "base",
   "language": "python",
   "name": "python3"
  },
  "language_info": {
   "codemirror_mode": {
    "name": "ipython",
    "version": 3
   },
   "file_extension": ".py",
   "mimetype": "text/x-python",
   "name": "python",
   "nbconvert_exporter": "python",
   "pygments_lexer": "ipython3",
   "version": "3.8.13"
  },
  "orig_nbformat": 4
 },
 "nbformat": 4,
 "nbformat_minor": 2
}
