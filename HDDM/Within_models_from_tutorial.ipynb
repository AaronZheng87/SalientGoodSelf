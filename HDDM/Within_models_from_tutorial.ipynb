{
 "cells": [
  {
   "cell_type": "markdown",
   "metadata": {},
   "source": [
    "### Testing within-subject models\n",
    "\n",
    "Issues need to be solved:\n",
    "* Add more than $v$ to the model;\n",
    "* Stim-coding with HDDMRegression (there was a tutorial on this)\n",
    "* Flexible design"
   ]
  },
  {
   "cell_type": "code",
   "execution_count": 1,
   "metadata": {
    "scrolled": true
   },
   "outputs": [
    {
     "name": "stdout",
     "output_type": "stream",
     "text": [
      "Notebook is running: /opt/conda/bin/python\n",
      "The current HDDM version is 3.7.6\n",
      "The current HDDM version is 0.8.0\n",
      "The current IPython version is 7.15.0\n",
      "The current Numpy version is 1.19.1\n",
      "The current Pandas version is 1.0.5\n"
     ]
    },
    {
     "name": "stderr",
     "output_type": "stream",
     "text": [
      "/opt/conda/lib/python3.7/site-packages/IPython/parallel.py:13: ShimWarning: The `IPython.parallel` package has been deprecated since IPython 4.0. You should import from ipyparallel instead.\n",
      "  \"You should import from ipyparallel instead.\", ShimWarning)\n"
     ]
    }
   ],
   "source": [
    "# check which python is in use.\n",
    "import sys\n",
    "print('Notebook is running:', sys.executable)\n",
    "\n",
    "# further check your python version\n",
    "from platform import python_version\n",
    "\n",
    "print('The current HDDM version is', python_version())\n",
    "\n",
    "# If you are sure that conda is installed, also check the package that install\n",
    "#!conda list  # list the conda\n",
    "\n",
    "import hddm, IPython\n",
    "import numpy as np\n",
    "import pandas as pd\n",
    "print('The current HDDM version is', hddm.__version__) # 0.8.0\n",
    "\n",
    "# Warning:`IPython.parallel` package has been deprecated since IPython 4.0. \n",
    "print('The current IPython version is', IPython.__version__) \n",
    "\n",
    "print('The current Numpy version is', np.__version__) \n",
    "\n",
    "print('The current Pandas version is', pd.__version__)"
   ]
  },
  {
   "cell_type": "code",
   "execution_count": 2,
   "metadata": {},
   "outputs": [],
   "source": [
    "%matplotlib inline\n",
    "\n",
    "# Preparation\n",
    "import os, time, csv\n",
    "from datetime import date\n",
    "import random\n",
    "\n",
    "import kabuki, hddm\n",
    "from patsy import dmatrix\n",
    "\n",
    "import numpy as np\n",
    "import pandas as pd\n",
    "import matplotlib.pyplot as plt"
   ]
  },
  {
   "cell_type": "markdown",
   "metadata": {},
   "source": [
    "## Let's first replicate the tutorial on HDDM website\n",
    "\n",
    "http://ski.clps.brown.edu/hddm_docs/tutorial_regression_stimcoding.html"
   ]
  },
  {
   "cell_type": "code",
   "execution_count": 3,
   "metadata": {},
   "outputs": [],
   "source": [
    "import sys\n",
    "# the following will save all the stdout to the txt file, which is not necessary\n",
    "# sys.stdout = open('ModelRecoveryOutput.txt', 'w')"
   ]
  },
  {
   "cell_type": "markdown",
   "metadata": {},
   "source": [
    "### Creating simulated data for  the experiment\n",
    "\n",
    "set number of subjects and number of trials per level for the simulated experiment"
   ]
  },
  {
   "cell_type": "code",
   "execution_count": 4,
   "metadata": {},
   "outputs": [],
   "source": [
    "n_subjects = 10\n",
    "trials_per_level = 150"
   ]
  },
  {
   "cell_type": "markdown",
   "metadata": {},
   "source": [
    "Next, set up parameters of the DDM for three levels and the first stimulus. "
   ]
  },
  {
   "cell_type": "code",
   "execution_count": 5,
   "metadata": {},
   "outputs": [],
   "source": [
    "level1a = {'v':.3, 'a':2, 't':.3, 'sv':0, 'z':.5, 'sz':0, 'st':0}\n",
    "level2a = {'v':.4, 'a':2, 't':.3, 'sv':0, 'z':.6, 'sz':0, 'st':0}\n",
    "level3a = {'v':.5, 'a':2, 't':.3, 'sv':0, 'z':.7, 'sz':0, 'st':0}"
   ]
  },
  {
   "cell_type": "markdown",
   "metadata": {},
   "source": [
    "Next, set up parameters for the second stimulus, where `v` is the same as for the first stimulus. This is different for `z`. In particular: `z(stimulus_b) = 1 - z(stimulus_a)`. "
   ]
  },
  {
   "cell_type": "code",
   "execution_count": 6,
   "metadata": {},
   "outputs": [],
   "source": [
    "level1b = {'v':.3, 'a':2, 't':.3, 'sv':0, 'z':.5, 'sz':0, 'st':0}\n",
    "level2b = {'v':.4, 'a':2, 't':.3, 'sv':0, 'z':.4, 'sz':0, 'st':0}\n",
    "level3b = {'v':.5, 'a':2, 't':.3, 'sv':0, 'z':.3, 'sz':0, 'st':0}"
   ]
  },
  {
   "cell_type": "markdown",
   "metadata": {},
   "source": [
    "Now, let's generate data for both stimuli"
   ]
  },
  {
   "cell_type": "code",
   "execution_count": 7,
   "metadata": {},
   "outputs": [],
   "source": [
    "random.seed(123)\n",
    "np.random.seed(123)\n",
    "data_a, params_a = hddm.generate.gen_rand_data({'level1': level1a,\n",
    "                                                'level2': level2a,\n",
    "                                                'level3': level3a},\n",
    "                                              size=trials_per_level,\n",
    "                                              subjs=n_subjects)\n",
    "\n",
    "data_b, params_b = hddm.generate.gen_rand_data({'level1': level1b,\n",
    "                                                'level2': level2b,\n",
    "                                                'level3': level3b},\n",
    "                                              size=trials_per_level,\n",
    "                                              subjs=n_subjects)"
   ]
  },
  {
   "cell_type": "code",
   "execution_count": 8,
   "metadata": {},
   "outputs": [],
   "source": [
    "data_a['stimulus'] = pd.Series(np.ones((len(data_a))), index=data_a.index)\n",
    "data_b['stimulus'] = pd.Series(np.ones((len(data_b)))*2, index=data_a.index)\n",
    "mydata = data_a.append(data_b,ignore_index=True)"
   ]
  },
  {
   "cell_type": "code",
   "execution_count": null,
   "metadata": {
    "scrolled": true
   },
   "outputs": [],
   "source": [
    "mydata.head(10)"
   ]
  },
  {
   "cell_type": "markdown",
   "metadata": {},
   "source": [
    "### Setting up the HDDM regression model\n",
    "\n",
    "The parameter `z` is bound between `0` and `1`, but the standard linear regression does not generate values between `0` and `1`. Therefore, we use a link-function, here the inverse logit $1/(1+exp(-x))$, which transform values between plus and minus infinity into values ranging from (just above) `0` to (nearly) `1`. [this link function is related to logistic regression].\n",
    "\n",
    "Next, we need to ensure that bias is $z$ for one stimulus and $1-z$ for the other stimulus. To achive this, we can simply multiply the regression output for one stimulus with $-1$. This is implemented here by dot-multiplying the regression output \"x\" (which is an array) with equally sized array \"stim\", which is 1 for all stimulus A trials and -1 for stimulus B trials. We use the `patsy` command `dmatrix` to generate such an array from the stimulus column of our stimulated data.\n",
    "\n",
    "**Note**\n",
    "* dot-multiplying is vague here, it should be Hadamard Product, see [here](https://www.tutorialexample.com/understand-numpy-np-multiply-np-dot-and-operation-a-beginner-guide-numpy-tutorial/)."
   ]
  },
  {
   "cell_type": "code",
   "execution_count": null,
   "metadata": {
    "scrolled": true
   },
   "outputs": [],
   "source": [
    "tmpdata = mydata[mydata['subj_idx'] <= 0]\n",
    "tmpdata"
   ]
  },
  {
   "cell_type": "code",
   "execution_count": null,
   "metadata": {
    "scrolled": true
   },
   "outputs": [],
   "source": [
    "stim = (dmatrix('0 + C(s, [[1], [-1]])', \n",
    "                {'s':tmpdata.stimulus.loc[tmpdata.index]},\n",
    "                return_type=\"dataframe\")\n",
    "        )\n",
    "\n",
    "#tmp = np.multiply(tmpdata[['stimulus']], stim[:])\n",
    "tmp = np.multiply(tmpdata.stimulus.loc[tmpdata.index].to_frame(),stim)\n",
    "#1/(1+np.exp(-((np.asarray(mydata.stimulus.iloc[mydata.index])) * stim)))\n",
    "type(stim)\n",
    "#stim.index\n",
    "#type(mydata.stimulus.iloc[mydata.index])"
   ]
  },
  {
   "cell_type": "code",
   "execution_count": null,
   "metadata": {},
   "outputs": [],
   "source": [
    "tmp"
   ]
  },
  {
   "cell_type": "code",
   "execution_count": null,
   "metadata": {
    "scrolled": true
   },
   "outputs": [],
   "source": [
    "tmp2 = tmpdata.stimulus.loc[tmpdata.index]\n",
    "tmp2.to_frame().shape"
   ]
  },
  {
   "cell_type": "code",
   "execution_count": 9,
   "metadata": {},
   "outputs": [],
   "source": [
    "# x is a pandas Series, it should be converted to dataframe to do the multiplication.\n",
    "\n",
    "def z_link_func(x, data=mydata):\n",
    "    stim = (dmatrix('0 + C(s, [[1], [-1]])',\n",
    "                    {'s':data.stimulus.loc[x.index]},\n",
    "                    return_type=\"dataframe\")\n",
    "#    stim = (np.asarray(dmatrix('0 + C(s, [[1], [-1]])',\n",
    "                               #{'s':data.stimulus.ix[x.index]})) # original .ix is deprecated.\n",
    "           )\n",
    "    #print(x.shape)\n",
    "    return 1/(1+np.exp(-np.multiply(x.to_frame(), stim)))\n",
    "    #return 1 /( 1+np.exp(-(x * stim)))"
   ]
  },
  {
   "cell_type": "markdown",
   "metadata": {},
   "source": [
    "Now, we set up the regression models for `z` and `v` and also include the link functions. The relevant string here used by `patsy` is `1 + C(condition)`. This will generate a design matrix with an intercept (that's what the `1` is for) and two dummy variables for remaining levels. (The column in which the levels are coded has the default name `condition`):"
   ]
  },
  {
   "cell_type": "code",
   "execution_count": 10,
   "metadata": {},
   "outputs": [],
   "source": [
    "z_reg = {'model': 'z ~ 1 + C(condition)', 'link_func':z_link_func}"
   ]
  },
  {
   "cell_type": "markdown",
   "metadata": {},
   "source": [
    "For `v` the link function is simply $x = x$, b/c no transformation is needed. (However, you could also analyze this experiment with response coded data. Then you would not stimulus code `z` but `v` and you would have to multiply the `v` for one condition with `-1`, with a link function like the one for `z`, but without the additional logit transform):"
   ]
  },
  {
   "cell_type": "code",
   "execution_count": 11,
   "metadata": {},
   "outputs": [],
   "source": [
    "v_reg = {'model': 'v ~ 1 + C(condition)', 'link_func': lambda x:x}"
   ]
  },
  {
   "cell_type": "markdown",
   "metadata": {},
   "source": [
    "Now, we can finally put the regression description for the hddm model together. The general for this is `[{'model': 'outcome_parameter ~ patsy_design_string', 'link_func': your_link_func}, {...}, ...]`"
   ]
  },
  {
   "cell_type": "code",
   "execution_count": 12,
   "metadata": {},
   "outputs": [],
   "source": [
    "reg_descr = [z_reg, v_reg]"
   ]
  },
  {
   "cell_type": "markdown",
   "metadata": {},
   "source": [
    "The last step before running the model is to construct the complete hddm regression model by adding data etc."
   ]
  },
  {
   "cell_type": "code",
   "execution_count": 13,
   "metadata": {},
   "outputs": [],
   "source": [
    "m_reg = hddm.HDDMRegressor(mydata, reg_descr, include='z')"
   ]
  },
  {
   "cell_type": "markdown",
   "metadata": {},
   "source": [
    "Now, we start the sampling, which takes a long time"
   ]
  },
  {
   "cell_type": "code",
   "execution_count": 14,
   "metadata": {
    "scrolled": true
   },
   "outputs": [
    {
     "data": {
      "text/plain": [
       "<pymc.MCMC.MCMC at 0x7ffaabd666d0>"
      ]
     },
     "execution_count": 14,
     "metadata": {},
     "output_type": "execute_result"
    }
   ],
   "source": [
    "m_reg.sample(5000, burn=200, dbname='within_effect.db', db='pickle') "
   ]
  },
  {
   "cell_type": "code",
   "execution_count": null,
   "metadata": {},
   "outputs": [],
   "source": [
    "m_reg.save('within_effect')"
   ]
  },
  {
   "cell_type": "markdown",
   "metadata": {},
   "source": [
    "### Comparing generative and recovered model parameters\n",
    "First, let's print the model stats"
   ]
  },
  {
   "cell_type": "code",
   "execution_count": 16,
   "metadata": {},
   "outputs": [],
   "source": [
    "m_reg.print_stats()"
   ]
  },
  {
   "cell_type": "markdown",
   "metadata": {},
   "source": [
    "## Working with real data\n",
    "\n",
    "Now let's move to the real data"
   ]
  },
  {
   "cell_type": "code",
   "execution_count": null,
   "metadata": {},
   "outputs": [],
   "source": [
    "# load data\n",
    "df1a = hddm.load_csv('df1a.v.hddm_stim.csv')\n",
    "df = df1a\n",
    "\n",
    "# randomly chose 10 participants from the dataset\n",
    "df_subj = df['subj_idx'].unique()\n",
    "random.seed(10)\n",
    "df_test_list = []\n",
    "for i in range(10):\n",
    "    pos = random.randint(0, (len(df_subj)-1))\n",
    "    df_test_list.append(df_subj[pos])  \n",
    "\n",
    "df_test = df[df['subj_idx'].isin(df_test_list)]"
   ]
  },
  {
   "cell_type": "code",
   "execution_count": null,
   "metadata": {},
   "outputs": [],
   "source": [
    "def z_link_func(x, data=mydata):\n",
    "    stim = (dmatrix('0 + C(s, [[1], [-1]])',\n",
    "                    {'s':data.stimulus.loc[x.index]},\n",
    "                    return_type=\"dataframe\")\n",
    "           )\n",
    "    return 1/(1+np.exp(-np.multiply(x.to_frame(), stim)))\n",
    "\n",
    "z_reg = {'model': 'z ~ 1 + C(condition)', 'link_func': z_link_func}\n",
    "v_reg = {'model': 'v ~ 1 + C(condition)', 'link_func': lambda x:x}\n",
    "a_reg = {'model': 'a ~ 1 + C(condition)', 'link_func': lambda x:x}\n",
    "\n",
    "reg_descr = [z_reg, v_reg]\n",
    "\n",
    "m_reg = hddm.HDDMRegressor(mydata, reg_descr, include='z')\n",
    "\n",
    "m_reg.sample(5000, burn=200, dbname='within_effect.db', db='pickle') "
   ]
  },
  {
   "cell_type": "code",
   "execution_count": null,
   "metadata": {},
   "outputs": [],
   "source": [
    "m_within_subj = hddm.HDDMRegressor(df1a, \"v ~ C(match, val, Treatment(’Mismatch.Neutral’))\")"
   ]
  }
 ],
 "metadata": {
  "kernelspec": {
   "display_name": "Python 3",
   "language": "python",
   "name": "python3"
  },
  "language_info": {
   "codemirror_mode": {
    "name": "ipython",
    "version": 3
   },
   "file_extension": ".py",
   "mimetype": "text/x-python",
   "name": "python",
   "nbconvert_exporter": "python",
   "pygments_lexer": "ipython3",
   "version": "3.7.6"
  }
 },
 "nbformat": 4,
 "nbformat_minor": 4
}
