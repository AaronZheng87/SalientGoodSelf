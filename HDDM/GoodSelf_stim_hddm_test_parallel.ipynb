{
 "cells": [
  {
   "cell_type": "markdown",
   "metadata": {},
   "source": [
    "# Test Parallel Processing"
   ]
  },
  {
   "cell_type": "code",
   "execution_count": 1,
   "metadata": {},
   "outputs": [
    {
     "name": "stdout",
     "output_type": "stream",
     "text": [
      "Notebook is running: /home/hcp4715/miniconda3/envs/py_ddm/bin/python\n"
     ]
    }
   ],
   "source": [
    "# check which python is in use.\n",
    "import sys\n",
    "print('Notebook is running:', sys.executable)\n",
    "\n",
    "# or uncomment the code below\n",
    "\n",
    "#from platform import python_version\n",
    "\n",
    "#print('The current HDDM version is', python_version())\n",
    "\n",
    "#import hddm, IPython\n",
    "#print('The current HDDM version is', hddm.__version__) # 0.8.0\n",
    "\n",
    "# Warning:`IPython.parallel` package has been deprecated since IPython 4.0. \n",
    "#print('The current IPython version is', IPython.__version__) "
   ]
  },
  {
   "cell_type": "code",
   "execution_count": 2,
   "metadata": {},
   "outputs": [
    {
     "name": "stdout",
     "output_type": "stream",
     "text": [
      "# packages in environment at /home/hcp4715/miniconda3/envs/py_ddm:\r\n",
      "#\r\n",
      "# Name                    Version                   Build  Channel\r\n",
      "_libgcc_mutex             0.1                        main    conda-forge\r\n",
      "attrs                     19.3.0                     py_0    conda-forge\r\n",
      "backcall                  0.1.0                    py37_0  \r\n",
      "blas                      1.0                         mkl    conda-forge\r\n",
      "bleach                    3.1.4                      py_0  \r\n",
      "ca-certificates           2020.1.1                      0  \r\n",
      "certifi                   2020.4.5.1               py37_0  \r\n",
      "cycler                    0.10.0                     py_2    conda-forge\r\n",
      "dbus                      1.13.14              hb2f20db_0  \r\n",
      "decorator                 4.4.2                      py_0    conda-forge\r\n",
      "defusedxml                0.6.0                      py_0    conda-forge\r\n",
      "entrypoints               0.3                      py37_0  \r\n",
      "expat                     2.2.6                he6710b0_0  \r\n",
      "fontconfig                2.13.0               h9420a91_0  \r\n",
      "freetype                  2.9.1                h8a8886c_1  \r\n",
      "glib                      2.63.1               h3eb4bd4_1  \r\n",
      "gmp                       6.1.2                h6c8ec71_1  \r\n",
      "gst-plugins-base          1.14.0               hbbd80ab_1  \r\n",
      "gstreamer                 1.14.0               hb31296c_0  \r\n",
      "hddm                      0.8.0                    pypi_0    pypi\r\n",
      "icu                       58.2                 he6710b0_3  \r\n",
      "importlib-metadata        1.6.0                    py37_0  \r\n",
      "importlib_metadata        1.6.0                         0    conda-forge\r\n",
      "intel-openmp              2020.1                      217  \r\n",
      "ipykernel                 5.1.4            py37h39e3cac_0  \r\n",
      "ipyparallel               6.3.0            py37hc8dfbb8_0    conda-forge\r\n",
      "ipython                   7.13.0           py37h5ca1d4c_0    conda-forge\r\n",
      "ipython_genutils          0.2.0                    py37_0  \r\n",
      "ipywidgets                7.5.1                      py_0    conda-forge\r\n",
      "jedi                      0.17.0                   py37_0  \r\n",
      "jinja2                    2.11.2                     py_0  \r\n",
      "jpeg                      9b                   h024ee3a_2  \r\n",
      "jsonschema                3.2.0                    py37_0    conda-forge\r\n",
      "jupyter                   1.0.0                    py37_7  \r\n",
      "jupyter_client            6.1.3                      py_0    conda-forge\r\n",
      "jupyter_console           6.1.0                      py_0  \r\n",
      "jupyter_core              4.6.3                    py37_0    conda-forge\r\n",
      "kabuki                    0.6.3                    pypi_0    pypi\r\n",
      "kiwisolver                1.2.0            py37hfd86e86_0  \r\n",
      "ld_impl_linux-64          2.33.1               h53a641e_7    conda-forge\r\n",
      "libblas                   3.8.0                    15_mkl    conda-forge\r\n",
      "libcblas                  3.8.0                    15_mkl    conda-forge\r\n",
      "libedit                   3.1.20181209         hc058e9b_0  \r\n",
      "libffi                    3.3                  he6710b0_1  \r\n",
      "libgcc-ng                 9.1.0                hdf63c60_0  \r\n",
      "libgfortran-ng            7.3.0                hdf63c60_0  \r\n",
      "liblapack                 3.8.0                    15_mkl    conda-forge\r\n",
      "libpng                    1.6.37               hbc83047_0  \r\n",
      "libsodium                 1.0.16               h1bed415_0  \r\n",
      "libstdcxx-ng              9.1.0                hdf63c60_0  \r\n",
      "libuuid                   1.0.3                h1bed415_2  \r\n",
      "libxcb                    1.13                 h1bed415_1  \r\n",
      "libxml2                   2.9.9                hea5a465_1  \r\n",
      "markupsafe                1.1.1            py37h7b6447c_0  \r\n",
      "matplotlib                3.2.1                    pypi_0    pypi\r\n",
      "mistune                   0.8.4            py37h7b6447c_0  \r\n",
      "mkl                       2020.1                      217  \r\n",
      "mkl-service               2.3.0            py37he904b0f_0  \r\n",
      "mkl_fft                   1.0.15           py37ha843d7b_0  \r\n",
      "mkl_random                1.1.1            py37h0573a6f_0  \r\n",
      "nbconvert                 5.6.1                    py37_0    conda-forge\r\n",
      "nbformat                  5.0.6                      py_0    conda-forge\r\n",
      "ncurses                   6.2                  he6710b0_1  \r\n",
      "notebook                  6.0.3                    py37_0    conda-forge\r\n",
      "numpy                     1.18.5           py37h8960a57_0    conda-forge\r\n",
      "numpy-base                1.18.1           py37hde5b4d6_1  \r\n",
      "openssl                   1.1.1g               h7b6447c_0  \r\n",
      "pandas                    1.0.4            py37h0da4684_0    conda-forge\r\n",
      "pandoc                    2.2.3.2                       0  \r\n",
      "pandocfilters             1.4.2                    py37_1  \r\n",
      "parso                     0.7.0                      py_0  \r\n",
      "patsy                     0.5.1                      py_0    conda-forge\r\n",
      "pcre                      8.43                 he6710b0_0  \r\n",
      "pexpect                   4.8.0                    py37_0    conda-forge\r\n",
      "pickleshare               0.7.5                    py37_0  \r\n",
      "pip                       20.0.2                   py37_3  \r\n",
      "prometheus_client         0.7.1                      py_0    conda-forge\r\n",
      "prompt-toolkit            3.0.5                      py_0    conda-forge\r\n",
      "prompt_toolkit            3.0.5                         0    conda-forge\r\n",
      "ptyprocess                0.6.0                    py37_0    conda-forge\r\n",
      "pygments                  2.6.1                      py_0    conda-forge\r\n",
      "pymc                      2.3.8                    pypi_0    pypi\r\n",
      "pyparsing                 2.4.7                      py_0  \r\n",
      "pyqt                      5.9.2            py37h05f1152_2  \r\n",
      "pyrsistent                0.16.0           py37h7b6447c_0  \r\n",
      "python                    3.7.7                hcff3b4d_5  \r\n",
      "python-dateutil           2.8.1                      py_0    conda-forge\r\n",
      "python_abi                3.7                     1_cp37m    conda-forge\r\n",
      "pytz                      2020.1                     py_0  \r\n",
      "pyzmq                     18.1.1           py37he6710b0_0  \r\n",
      "qt                        5.9.7                h5867ecd_1  \r\n",
      "qtconsole                 4.7.4                      py_0  \r\n",
      "qtpy                      1.9.0                      py_0    conda-forge\r\n",
      "readline                  8.0                  h7b6447c_0  \r\n",
      "scipy                     1.4.1            py37h0b6359f_0  \r\n",
      "seaborn                   0.10.1                     py_0    conda-forge\r\n",
      "send2trash                1.5.0                    py37_0  \r\n",
      "setuptools                46.4.0                   py37_0  \r\n",
      "sip                       4.19.8           py37hf484d3e_0  \r\n",
      "six                       1.15.0             pyh9f0ad1d_0    conda-forge\r\n",
      "sqlite                    3.31.1               h62c20be_1  \r\n",
      "statsmodels               0.11.1           py37h8f50634_2    conda-forge\r\n",
      "terminado                 0.8.3                    py37_0    conda-forge\r\n",
      "testpath                  0.4.4                      py_0    conda-forge\r\n",
      "tk                        8.6.8                hbc83047_0  \r\n",
      "tornado                   6.0.4            py37h7b6447c_1  \r\n",
      "traitlets                 4.3.3                    py37_0    conda-forge\r\n",
      "wcwidth                   0.1.9                      py_0  \r\n",
      "webencodings              0.5.1                    py37_1  \r\n",
      "wheel                     0.34.2                   py37_0    conda-forge\r\n",
      "widgetsnbextension        3.5.1                    py37_0    conda-forge\r\n",
      "xz                        5.2.5                h7b6447c_0  \r\n",
      "zeromq                    4.3.1                he6710b0_3  \r\n",
      "zipp                      3.1.0                      py_0    conda-forge\r\n",
      "zlib                      1.2.11               h7b6447c_3  \r\n"
     ]
    }
   ],
   "source": [
    "!conda list"
   ]
  },
  {
   "cell_type": "code",
   "execution_count": 3,
   "metadata": {},
   "outputs": [
    {
     "name": "stderr",
     "output_type": "stream",
     "text": [
      "/home/hcp4715/miniconda3/envs/py_ddm/lib/python3.7/site-packages/IPython/parallel.py:13: ShimWarning: The `IPython.parallel` package has been deprecated since IPython 4.0. You should import from ipyparallel instead.\n",
      "  \"You should import from ipyparallel instead.\", ShimWarning)\n"
     ]
    }
   ],
   "source": [
    "%matplotlib inline\n",
    "\n",
    "# Preparation\n",
    "import os, hddm, time, csv\n",
    "import datetime\n",
    "\n",
    "import pandas as pd\n",
    "import matplotlib.pyplot as plt\n",
    "from datetime import date\n",
    "\n",
    "import random"
   ]
  },
  {
   "cell_type": "code",
   "execution_count": 4,
   "metadata": {
    "scrolled": false
   },
   "outputs": [
    {
     "data": {
      "image/png": "[encoded data removed]",
      "text/plain": [
       "<Figure size 432x288 with 1 Axes>"
      ]
     },
     "metadata": {
      "needs_background": "light"
     },
     "output_type": "display_data"
    }
   ],
   "source": [
    "# load data\n",
    "df1a = hddm.load_csv('df1a.v.hddm_stim.csv')\n",
    "\n",
    "df1a.head(10)  # uncomment if you want to check the head of the data\n",
    "\n",
    "# Uncomment the codes below if you are interested in checking the distribution of raw data\n",
    "# plot and save the distribution of raw data:\n",
    "fig = plt.figure()\n",
    "ax = fig.add_subplot(111, xlabel='RT', ylabel='count', title='RT distributions')\n",
    "for i, subj_data in df1a.groupby('subj_idx'):\n",
    "    subj_data.rt.hist(bins=20, histtype='step', ax=ax)\n",
    "# plt.savefig('plot_MS_dat_M_match.pdf')"
   ]
  },
  {
   "cell_type": "code",
   "execution_count": 5,
   "metadata": {},
   "outputs": [],
   "source": [
    "# define a function to run model in parallel\n",
    "def run_model(id):\n",
    "    print('running model%i'%id);\n",
    "    \n",
    "    import hddm\n",
    "    import random\n",
    "    \n",
    "    dbname='df1a_db_test_chain_%i.db'%id\n",
    "    mname = 'df1a_db_test_chain_%i'%id\n",
    "    \n",
    "    df1a = hddm.load_csv('df1a.v.hddm_stim.csv')\n",
    "\n",
    "    df1a_subj = df1a['subj_idx'].unique()\n",
    "\n",
    "    # random select without repetition\n",
    "    random.seed(10)\n",
    "    df1a_test_list = []\n",
    "    for i in range(10):\n",
    "        pos = random.randint(0, (len(df1a_subj)-1))\n",
    "        df1a_test_list.append(df1a_subj[pos]) \n",
    "        #print(df1a_test_list)\n",
    "    #print(df1a_test_list)  \n",
    "    \n",
    "    df1a_test = df1a[df1a['subj_idx'].isin(df1a_test_list)]\n",
    "    \n",
    "    m = hddm.HDDMStimCoding(df1a_test, \n",
    "                            include='z', \n",
    "                            stim_col='stim', \n",
    "                            depends_on={'v':['match','val'], 't':['match','val'],'a':['match','val']},\n",
    "                            split_param='v', \n",
    "                            drift_criterion=False,\n",
    "                            p_outlier=0.05)\n",
    "    m.find_starting_values()\n",
    "    m.sample(1000, burn=500, dbname=dbname, db='pickle')\n",
    "    m.save(mname)\n",
    "    \n",
    "    return m"
   ]
  },
  {
   "cell_type": "markdown",
   "metadata": {},
   "source": [
    "### Test single chain"
   ]
  },
  {
   "cell_type": "code",
   "execution_count": 9,
   "metadata": {},
   "outputs": [
    {
     "name": "stdout",
     "output_type": "stream",
     "text": [
      "running model4\n"
     ]
    },
    {
     "name": "stderr",
     "output_type": "stream",
     "text": [
      "/home/hcp4715/miniconda3/envs/py_ddm/lib/python3.7/site-packages/scipy/optimize/optimize.py:1985: RuntimeWarning: invalid value encountered in double_scalars\n",
      "  tmp2 = (x - v) * (fx - fw)\n"
     ]
    },
    {
     "name": "stdout",
     "output_type": "stream",
     "text": [
      " [-----------------100%-----------------] 1001 of 1000 complete in 303.6 sec\n",
      "Running 1 chain used: 326.935573 seconds.\n"
     ]
    }
   ],
   "source": [
    "start_time = time.time()  # the start time of the processing\n",
    "\n",
    "run_model(4)\n",
    "\n",
    "print(\"\\nRunning 1 chain used: %f seconds.\" % (time.time() - start_time))"
   ]
  },
  {
   "cell_type": "markdown",
   "metadata": {},
   "source": [
    "### Test multiple chains in parallel"
   ]
  },
  {
   "cell_type": "code",
   "execution_count": 6,
   "metadata": {
    "scrolled": true
   },
   "outputs": [
    {
     "name": "stdout",
     "output_type": "stream",
     "text": [
      "\n",
      "Running 4 chains used: 311.741371 seconds.\n"
     ]
    }
   ],
   "source": [
    "from ipyparallel import Client\n",
    "\n",
    "v = Client()[:]\n",
    "\n",
    "start_time = time.time()  # the start time of the processing\n",
    "\n",
    "jobs = v.map(run_model, range(4)) # 4 is the number of CPUs\n",
    "models = jobs.get()\n",
    "\n",
    "print(\"\\nRunning 4 chains used: %f seconds.\" % (time.time() - start_time))\n",
    "\n",
    "# Running 4 chains used: 487.836930 seconds (dell-5510)\n",
    "# Running 4 chains used: 311.741371 seconds (thinkpad-x1)"
   ]
  },
  {
   "cell_type": "markdown",
   "metadata": {},
   "source": [
    "### Test multiple chain with progress bar"
   ]
  },
  {
   "cell_type": "code",
   "execution_count": null,
   "metadata": {},
   "outputs": [],
   "source": [
    "#-------------------------------\n",
    "# Watcher function - function for dynamically printing ipython parallel output \n",
    "# adapted from the following two sources:\n",
    "# http://stackoverflow.com/questions/18086299/real-time-output-from-engines-in-ipython-parallel\n",
    "# http://stackoverflow.com/questions/15289168/printing-to-stdout-in-ipython-parallel-processes\n",
    "#-------------------------------       \n",
    "import sys\n",
    "import time\n",
    "from IPython.display import clear_output\n",
    "\n",
    "def wait_watching_stdout(ar, dt=60):\n",
    "    ## ar: vmap output of the models being run\n",
    "    ## dt: number of seconds between checking output\n",
    "    while not ar.ready():\n",
    "        stdouts = ar.stdout\n",
    "        if not any(stdouts):\n",
    "            continue\n",
    "        # clear_output doesn't do much in terminal environments\n",
    "        clear_output()\n",
    "        print('-' * 30)\n",
    "        print(\"%.3fs elapsed\" % ar.elapsed)\n",
    "        print(\"\")\n",
    "        for out in ar.stdout: print(out);\n",
    "        sys.stdout.flush()\n",
    "        time.sleep(dt)"
   ]
  },
  {
   "cell_type": "code",
   "execution_count": null,
   "metadata": {},
   "outputs": [],
   "source": [
    "from ipyparallel import Client\n",
    "start_time = time.time()  # the start time of the processing\n",
    "v = Client()[:]\n",
    "jobs = v.map(run_model, range(4)) # 4 is the number of CPUs\n",
    "# wait_watching_stdout(jobs)\n",
    "models = jobs.get()\n",
    "\n",
    "m1_time = time.time() \n",
    "print(\"\\nRunning 4 chains used: %f seconds.\" % (m1_time - start_time))"
   ]
  }
 ],
 "metadata": {
  "kernelspec": {
   "display_name": "Python 3",
   "language": "python",
   "name": "python3"
  },
  "language_info": {
   "codemirror_mode": {
    "name": "ipython",
    "version": 3
   },
   "file_extension": ".py",
   "mimetype": "text/x-python",
   "name": "python",
   "nbconvert_exporter": "python",
   "pygments_lexer": "ipython3",
   "version": "3.7.7"
  }
 },
 "nbformat": 4,
 "nbformat_minor": 2
}
