{
 "cells": [
  {
   "cell_type": "code",
   "execution_count": null,
   "metadata": {},
   "outputs": [],
   "source": [
    "import sys\n",
    "import hddm, IPython\n",
    "print('Notebook is running:', sys.executable)\n",
    "from platform import python_version # further check your python version\n",
    "print('The current HDDM version is', python_version())\n",
    "print('The current HDDM version is', hddm.__version__) # 0.8.0\n",
    "print('The current IPython version is', IPython.__version__) "
   ]
  },
  {
   "cell_type": "code",
   "execution_count": null,
   "metadata": {},
   "outputs": [],
   "source": [
    "%matplotlib inline\n",
    "\n",
    "# Preparation\n",
    "import os, hddm, time, csv\n",
    "import kabuki\n",
    "\n",
    "import numpy as np\n",
    "import pandas as pd\n",
    "import matplotlib.pyplot as plt\n",
    "from datetime import date\n",
    "import random"
   ]
  },
  {
   "cell_type": "code",
   "execution_count": null,
   "metadata": {},
   "outputs": [],
   "source": [
    "# define a function to run model in parallel for experiments share the same design\n",
    "def run_model_5(id):\n",
    "    import hddm\n",
    "    \n",
    "    exp_name = '1'\n",
    "    print('running models %i'%id, 'for for exp', exp_name)\n",
    "    dbname = 'df' + exp_name + '_chain_vtaz_%i.db'%id   # define the database name, which uses pickle format\n",
    "    mname  = 'df' + exp_name + '_chain__vtaz_%i'%id     # define the name for the model\n",
    "    fname  = 'df' + exp_name + '.v.hddm_stim.csv'\n",
    "    df = hddm.load_csv(fname)\n",
    "    m = hddm.HDDMStimCoding(curr_df,\n",
    "                            include='z', \n",
    "                            stim_col='stim', \n",
    "                            depends_on={'v':['match','val','domain'], 't':['match','val','domain'],'a':['match','val','domain']},\n",
    "                            split_param='v', \n",
    "                            drift_criterion=False,\n",
    "                            p_outlier=.05)\n",
    "    m.find_starting_values()\n",
    "    m.sample(10000, burn=5000, thin=5, dbname=dbname, db='pickle')\n",
    "    m.save(mname) # save the model\n",
    "    return m"
   ]
  },
  {
   "cell_type": "code",
   "execution_count": null,
   "metadata": {},
   "outputs": [],
   "source": [
    "start_time = time.time()   # the start time of the processing#\n",
    "print('\\nrun model for exp', '5')\n",
    "from ipyparallel import Client\n",
    "rc = Client()\n",
    "jobs = rc[8:12].map(run_model_1a, range(4)) # 4 is the number of chains\n",
    "df_models = jobs.get()\n",
    "print(\"Running 4 chains for exp\", '5', \"used: %f seconds.\" % (time.time() - start_time))"
   ]
  }
 ],
 "metadata": {
  "kernelspec": {
   "display_name": "Python 3",
   "language": "python",
   "name": "python3"
  },
  "language_info": {
   "codemirror_mode": {
    "name": "ipython",
    "version": 3
   },
   "file_extension": ".py",
   "mimetype": "text/x-python",
   "name": "python",
   "nbconvert_exporter": "python",
   "pygments_lexer": "ipython3",
   "version": "3.7.7"
  }
 },
 "nbformat": 4,
 "nbformat_minor": 4
}
