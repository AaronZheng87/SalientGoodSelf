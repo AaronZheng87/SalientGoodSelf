{
 "cells": [
  {
   "cell_type": "code",
   "execution_count": 6,
   "metadata": {},
   "outputs": [
    {
     "name": "stdout",
     "output_type": "stream",
     "text": [
      "Notebook is running: /home/hcp4715/miniconda3/envs/pyddm/bin/python\n",
      "The current Python version is 3.8.3\n",
      "The current PyDDM version is 0.3.0\n",
      "The current IPython version is 7.15.0\n"
     ]
    }
   ],
   "source": [
    "# check which python is in use.\n",
    "import sys\n",
    "print('Notebook is running:', sys.executable)\n",
    "\n",
    "# further check your python version\n",
    "from platform import python_version\n",
    "\n",
    "print('The current Python version is', python_version())\n",
    "\n",
    "# If you are sure that conda is installed, also check the package that install\n",
    "#!conda list  # list the conda\n",
    "\n",
    "import ddm, IPython\n",
    "print('The current PyDDM version is', ddm.__version__) # 0.8.0\n",
    "\n",
    "# Warning:`IPython.parallel` package has been deprecated since IPython 4.0. \n",
    "print('The current IPython version is', IPython.__version__) "
   ]
  },
  {
   "cell_type": "code",
   "execution_count": 11,
   "metadata": {
    "scrolled": true
   },
   "outputs": [
    {
     "name": "stdout",
     "output_type": "stream",
     "text": [
      "{'commit_hash': '2922831ac',\n",
      " 'commit_source': 'installation',\n",
      " 'default_encoding': 'utf-8',\n",
      " 'ipython_path': '/home/hcp4715/miniconda3/envs/pyddm/lib/python3.8/site-packages/IPython',\n",
      " 'ipython_version': '7.15.0',\n",
      " 'os_name': 'posix',\n",
      " 'platform': 'Linux-5.4.0-37-generic-x86_64-with-glibc2.10',\n",
      " 'sys_executable': '/home/hcp4715/miniconda3/envs/pyddm/bin/python',\n",
      " 'sys_platform': 'linux',\n",
      " 'sys_version': '3.8.3 (default, May 19 2020, 18:47:26) \\n[GCC 7.3.0]'}\n"
     ]
    }
   ],
   "source": [
    "import IPython\n",
    "\n",
    "print(IPython.sys_info())"
   ]
  },
  {
   "cell_type": "code",
   "execution_count": 12,
   "metadata": {},
   "outputs": [
    {
     "name": "stdout",
     "output_type": "stream",
     "text": [
      "backcall==0.2.0\r\n",
      "certifi==2020.4.5.2\r\n",
      "cycler==0.10.0\r\n",
      "decorator==4.4.2\r\n",
      "entrypoints==0.3\r\n",
      "ipykernel==5.3.0\r\n",
      "ipython @ file:///tmp/build/80754af9/ipython_1592348389743/work\r\n",
      "ipython-genutils==0.2.0\r\n",
      "jedi==0.17.0\r\n",
      "jupyter-client==6.1.3\r\n",
      "jupyter-core==4.6.3\r\n",
      "kiwisolver==1.2.0\r\n",
      "matplotlib @ file:///tmp/build/80754af9/matplotlib-base_1592406092505/work\r\n",
      "mkl-fft==1.1.0\r\n",
      "mkl-random==1.1.1\r\n",
      "mkl-service==2.3.0\r\n",
      "numpy==1.18.1\r\n",
      "pandas==1.0.4\r\n",
      "paranoid-scientist==0.2.2\r\n",
      "parso==0.7.0\r\n",
      "pexpect==4.8.0\r\n",
      "pickleshare==0.7.5\r\n",
      "prompt-toolkit==3.0.5\r\n",
      "ptyprocess==0.6.0\r\n",
      "pyddm==0.3.0\r\n",
      "Pygments==2.6.1\r\n",
      "pyparsing==2.4.7\r\n",
      "python-dateutil==2.8.1\r\n",
      "pytz==2020.1\r\n",
      "pyzmq==18.1.1\r\n",
      "scipy==1.4.1\r\n",
      "seaborn==0.10.1\r\n",
      "sip==4.19.13\r\n",
      "six==1.15.0\r\n",
      "tornado==6.0.4\r\n",
      "traitlets==4.3.3\r\n",
      "wcwidth==0.2.4\r\n"
     ]
    }
   ],
   "source": [
    "!pip freeze"
   ]
  },
  {
   "cell_type": "code",
   "execution_count": 7,
   "metadata": {},
   "outputs": [
    {
     "data": {
      "image/png": "[encoded data removed]",
      "text/plain": [
       "<Figure size 432x288 with 1 Axes>"
      ]
     },
     "metadata": {
      "needs_background": "light"
     },
     "output_type": "display_data"
    }
   ],
   "source": [
    "import matplotlib.pyplot as plt\n",
    "from ddm import Model\n",
    "m = Model()\n",
    "s = m.solve()\n",
    "plt.plot(s.model.t_domain(), s.pdf_corr())\n",
    "plt.savefig(\"helloworld.png\")\n",
    "plt.show()"
   ]
  },
  {
   "cell_type": "code",
   "execution_count": 8,
   "metadata": {},
   "outputs": [
    {
     "name": "stdout",
     "output_type": "stream",
     "text": [
      "Model Simple model information:\n",
      "Drift component DriftConstant:\n",
      "    constant\n",
      "    Fixed parameters:\n",
      "    - drift: 2.200000\n",
      "Noise component NoiseConstant:\n",
      "    constant\n",
      "    Fixed parameters:\n",
      "    - noise: 1.500000\n",
      "Bound component BoundConstant:\n",
      "    constant\n",
      "    Fixed parameters:\n",
      "    - B: 1.100000\n",
      "IC component ICPointSourceCenter:\n",
      "    point_source_center\n",
      "    (No parameters)\n",
      "Overlay component OverlayNonDecision:\n",
      "    Add a non-decision by shifting the histogram\n",
      "    Fixed parameters:\n",
      "    - nondectime: 0.100000\n",
      "\n"
     ]
    }
   ],
   "source": [
    "from ddm import Model\n",
    "from ddm.models import DriftConstant, NoiseConstant, BoundConstant, OverlayNonDecision\n",
    "from ddm.functions import fit_adjust_model, display_model\n",
    "\n",
    "model = Model(name='Simple model',\n",
    "              drift=DriftConstant(drift=2.2),\n",
    "              noise=NoiseConstant(noise=1.5),\n",
    "              bound=BoundConstant(B=1.1),\n",
    "              overlay=OverlayNonDecision(nondectime=.1),\n",
    "              dx=.001, dt=.01, T_dur=2)\n",
    "display_model(model)\n",
    "sol = model.solve()"
   ]
  },
  {
   "cell_type": "code",
   "execution_count": 9,
   "metadata": {},
   "outputs": [],
   "source": [
    "samp = sol.resample(1000)"
   ]
  },
  {
   "cell_type": "code",
   "execution_count": 13,
   "metadata": {},
   "outputs": [
    {
     "ename": "ImportError",
     "evalue": "cannot import name 'LossRobustBIC' from 'ddm.models' (/home/hcp4715/miniconda3/envs/pyddm/lib/python3.8/site-packages/ddm/models/__init__.py)",
     "output_type": "error",
     "traceback": [
      "\u001b[0;31m---------------------------------------------------------------------------\u001b[0m",
      "\u001b[0;31mImportError\u001b[0m                               Traceback (most recent call last)",
      "\u001b[0;32m<ipython-input-13-ae5a6b64ba5c>\u001b[0m in \u001b[0;36m<module>\u001b[0;34m\u001b[0m\n\u001b[1;32m      1\u001b[0m \u001b[0;32mfrom\u001b[0m \u001b[0mddm\u001b[0m \u001b[0;32mimport\u001b[0m \u001b[0mFittable\u001b[0m\u001b[0;34m\u001b[0m\u001b[0;34m\u001b[0m\u001b[0m\n\u001b[0;32m----> 2\u001b[0;31m \u001b[0;32mfrom\u001b[0m \u001b[0mddm\u001b[0m\u001b[0;34m.\u001b[0m\u001b[0mmodels\u001b[0m \u001b[0;32mimport\u001b[0m \u001b[0mLossRobustBIC\u001b[0m\u001b[0;34m\u001b[0m\u001b[0;34m\u001b[0m\u001b[0m\n\u001b[0m\u001b[1;32m      3\u001b[0m \u001b[0;32mfrom\u001b[0m \u001b[0mddm\u001b[0m\u001b[0;34m.\u001b[0m\u001b[0mfunctions\u001b[0m \u001b[0;32mimport\u001b[0m \u001b[0mfit_adjust_model\u001b[0m\u001b[0;34m\u001b[0m\u001b[0;34m\u001b[0m\u001b[0m\n\u001b[1;32m      4\u001b[0m model_fit = Model(name='Simple model (fitted)',\n\u001b[1;32m      5\u001b[0m                   \u001b[0mdrift\u001b[0m\u001b[0;34m=\u001b[0m\u001b[0mDriftConstant\u001b[0m\u001b[0;34m(\u001b[0m\u001b[0mdrift\u001b[0m\u001b[0;34m=\u001b[0m\u001b[0mFittable\u001b[0m\u001b[0;34m(\u001b[0m\u001b[0mminval\u001b[0m\u001b[0;34m=\u001b[0m\u001b[0;36m0\u001b[0m\u001b[0;34m,\u001b[0m \u001b[0mmaxval\u001b[0m\u001b[0;34m=\u001b[0m\u001b[0;36m4\u001b[0m\u001b[0;34m)\u001b[0m\u001b[0;34m)\u001b[0m\u001b[0;34m,\u001b[0m\u001b[0;34m\u001b[0m\u001b[0;34m\u001b[0m\u001b[0m\n",
      "\u001b[0;31mImportError\u001b[0m: cannot import name 'LossRobustBIC' from 'ddm.models' (/home/hcp4715/miniconda3/envs/pyddm/lib/python3.8/site-packages/ddm/models/__init__.py)"
     ]
    }
   ],
   "source": [
    "from ddm import Fittable\n",
    "from ddm.models import LossRobustBIC\n",
    "from ddm.functions import fit_adjust_model\n",
    "model_fit = Model(name='Simple model (fitted)',\n",
    "                  drift=DriftConstant(drift=Fittable(minval=0, maxval=4)),\n",
    "                  noise=NoiseConstant(noise=Fittable(minval=.5, maxval=4)),\n",
    "                  bound=BoundConstant(B=1.1),\n",
    "                  overlay=OverlayNonDecision(nondectime=Fittable(minval=0, maxval=1)),\n",
    "                  dx=.001, dt=.01, T_dur=2)\n",
    "\n",
    "fit_adjust_model(samp, model_fit,\n",
    "                 fitting_method=\"differential_evolution\",\n",
    "                 lossfunction=LossRobustBIC)"
   ]
  }
 ],
 "metadata": {
  "kernelspec": {
   "display_name": "Python [conda env:pyddm]",
   "language": "python",
   "name": "conda-env-pyddm-py"
  },
  "language_info": {
   "codemirror_mode": {
    "name": "ipython",
    "version": 3
   },
   "file_extension": ".py",
   "mimetype": "text/x-python",
   "name": "python",
   "nbconvert_exporter": "python",
   "pygments_lexer": "ipython3",
   "version": "3.8.3"
  }
 },
 "nbformat": 4,
 "nbformat_minor": 4
}
