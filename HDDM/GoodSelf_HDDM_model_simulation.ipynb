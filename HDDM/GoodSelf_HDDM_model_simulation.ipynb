{
 "cells": [
  {
   "cell_type": "markdown",
   "metadata": {},
   "source": [
    "## Simulate data and parameter recovery\n",
    "\n",
    "Given that we are interested in the drift rate $v$, let see how which model recovers the drift rate $v$ best.\n",
    "\n",
    "**Note: this part hasn't been finished yet**\n",
    "\n",
    "\n",
    "### First Generate random day with certain drift rate"
   ]
  },
  {
   "cell_type": "code",
   "execution_count": null,
   "metadata": {},
   "outputs": [],
   "source": [
    "# check which python is in use.\n",
    "import sys\n",
    "print('Notebook is running:', sys.executable)\n",
    "\n",
    "# further check your python version\n",
    "from platform import python_version\n",
    "\n",
    "print('The current HDDM version is', python_version())\n",
    "\n",
    "# If you are sure that conda is installed, also check the package that install\n",
    "#!conda list  # list the conda\n",
    "\n",
    "import hddm, IPython\n",
    "print('The current HDDM version is', hddm.__version__) # 0.8.0\n",
    "\n",
    "# Warning:`IPython.parallel` package has been deprecated since IPython 4.0. \n",
    "print('The current IPython version is', IPython.__version__) "
   ]
  },
  {
   "cell_type": "code",
   "execution_count": null,
   "metadata": {},
   "outputs": [],
   "source": [
    "# Generate random data, assuming that only drift rate is different. \n",
    "# for more details about hddm.generate.gen_rand(), uncomment below:\n",
    "# ?hddm.generate.gen_rand\n",
    "# import kabuki\n",
    "# ?kabuki.generate.gen_rand_data\n",
    "\n",
    "df_gen, prms_gen = hddm.generate.gen_rand_data({'cond1': {'v':1.5, 'a':1, 't':.4, 'z': 0.55},\n",
    "                                                'cond2': {'v':2.5, 'a':1, 't':.4, 'z': 0.55},\n",
    "                                                'cond3': {'v':3.5, 'a':1, 't':.4, 'z': 0.55}}, \n",
    "                                               n_fast_outliers= 5, \n",
    "                                               n_slow_outliers=5,\n",
    "                                               subj_noise=0.2, # how much to pertub individual subj params, default = 0.1\n",
    "                                               size = 300,\n",
    "                                               subjs = 30)\n",
    "\n",
    "import matplotlib.pyplot as plt\n",
    "import seaborn as sns\n",
    "sns.set()\n",
    "\n",
    "g = sns.FacetGrid(df_gen, col='subj_idx', col_wrap=6, hue=\"condition\", height=4, palette=\"bright\")\n",
    "g = (g.map(sns.distplot, \"rt\", hist = False, kde = True,\n",
    "           kde_kws = {'shade': True, 'linewidth': 2}, rug=True)\n",
    "     .set(xlim=(0, 1.5))  # , ylim=(0, 12))\n",
    "     .add_legend())"
   ]
  },
  {
   "cell_type": "code",
   "execution_count": null,
   "metadata": {
    "scrolled": true
   },
   "outputs": [],
   "source": [
    "# print generated params\n",
    "prms_gen"
   ]
  },
  {
   "cell_type": "markdown",
   "metadata": {},
   "source": [
    "### Parameter recovery\n",
    "\n",
    "I.e., Fit the model with the generated data"
   ]
  },
  {
   "cell_type": "code",
   "execution_count": null,
   "metadata": {},
   "outputs": [],
   "source": [
    "## Recover model 1, only free parameter v\n",
    "\n",
    "rcv_m1 = hddm.HDDM(df_gen, depends_on={'v':['condition']},p_outlier=0.05)\n",
    "\n",
    "rcv_m1.find_starting_values()\n",
    "rcv_m1.sample(3000, burn=1500, dbname='rcv_m1.db', db='pickle')\n",
    "rcv_m1.save('rcv_m1')"
   ]
  },
  {
   "cell_type": "code",
   "execution_count": null,
   "metadata": {},
   "outputs": [],
   "source": [
    "rcv_m1.plot_posteriors(['a', 't', 'v', 'a_std'])"
   ]
  },
  {
   "cell_type": "code",
   "execution_count": null,
   "metadata": {},
   "outputs": [],
   "source": [
    "# rcv_m1.plot_posterior_predictive()"
   ]
  },
  {
   "cell_type": "code",
   "execution_count": null,
   "metadata": {},
   "outputs": [],
   "source": [
    "v_cond1, v_cond2, v_cond3 = rcv_m1.nodes_db.node[['v(cond1)', 'v(cond2)', 'v(cond3)']]\n",
    "hddm.analyze.plot_posterior_nodes([v_cond1, v_cond2, v_cond3])\n",
    "plt.xlabel('drift-rate')\n",
    "plt.ylabel('Posterior probability')\n",
    "plt.title('Posterior of drift-rate group means')\n",
    "#plt.savefig('hddm_demo_fig_06.pdf')"
   ]
  },
  {
   "cell_type": "code",
   "execution_count": null,
   "metadata": {},
   "outputs": [],
   "source": [
    "rcv_m2 = hddm.HDDM(df_gen, depends_on={'v':['condition'], 'a':['condition'], 't':['condition']},\n",
    "                   p_outlier=0.05)\n",
    "\n",
    "rcv_m2.find_starting_values()\n",
    "rcv_m2.sample(3000, burn=1500, dbname='rcv_m2.db', db='pickle')\n",
    "rcv_m2.save('rcv_m2')"
   ]
  },
  {
   "cell_type": "code",
   "execution_count": null,
   "metadata": {},
   "outputs": [],
   "source": [
    "v_cond1, v_cond2, v_cond3 = rcv_m2.nodes_db.node[['v(cond1)', 'v(cond2)', 'v(cond3)']]\n",
    "hddm.analyze.plot_posterior_nodes([v_cond1, v_cond2, v_cond3])\n",
    "plt.xlabel('drift-rate')\n",
    "plt.ylabel('Posterior probability')\n",
    "plt.title('Posterior of drift-rate group means')"
   ]
  },
  {
   "cell_type": "code",
   "execution_count": null,
   "metadata": {},
   "outputs": [],
   "source": [
    "rcv_m3 = hddm.HDDM(df_gen, depends_on={'v':['condition'], 'z':['condition']},\n",
    "                   p_outlier=0.05)\n",
    "\n",
    "rcv_m3.find_starting_values()\n",
    "rcv_m3.sample(3000, burn=1500, dbname='rcv_m3.db', db='pickle')\n",
    "rcv_m3.save('rcv_m3')\n"
   ]
  },
  {
   "cell_type": "code",
   "execution_count": null,
   "metadata": {},
   "outputs": [],
   "source": [
    "v_cond1, v_cond2, v_cond3 = rcv_m3.nodes_db.node[['v(cond1)', 'v(cond2)', 'v(cond3)']]\n",
    "hddm.analyze.plot_posterior_nodes([v_cond1, v_cond2, v_cond3])\n",
    "plt.xlabel('drift-rate')\n",
    "plt.ylabel('Posterior probability')\n",
    "plt.title('Posterior of drift-rate group means')"
   ]
  },
  {
   "cell_type": "code",
   "execution_count": null,
   "metadata": {},
   "outputs": [],
   "source": [
    "rcv_m4 = hddm.HDDM(df_gen, depends_on={'v':['condition'], 'z':['condition'], 't':['condition']},\n",
    "                   p_outlier=0.05)\n",
    "\n",
    "rcv_m4.find_starting_values()\n",
    "rcv_m4.sample(3000, burn=1500, dbname='rcv_m4.db', db='pickle')\n",
    "rcv_m4.save('rcv_m4')\n",
    "\n",
    "v_cond1, v_cond2, v_cond3 = rcv_m4.nodes_db.node[['v(cond1)', 'v(cond2)', 'v(cond3)']]\n",
    "hddm.analyze.plot_posterior_nodes([v_cond1, v_cond2, v_cond3])\n",
    "plt.xlabel('drift-rate')\n",
    "plt.ylabel('Posterior probability')\n",
    "plt.title('Posterior of drift-rate group means')"
   ]
  },
  {
   "cell_type": "code",
   "execution_count": null,
   "metadata": {},
   "outputs": [],
   "source": [
    "rcv_m1.nodes_db.node[['v(cond1)', 'v(cond2)', 'v(cond3)']].head(20)"
   ]
  },
  {
   "cell_type": "markdown",
   "metadata": {},
   "source": [
    "### Compare the recovered parameter with the ground truth\n",
    "\n",
    "plot the $v$ fro three conditions and compare them with the ground truth: 1.5, 2.5, 3.5"
   ]
  }
 ],
 "metadata": {
  "kernelspec": {
   "display_name": "Python 3",
   "language": "python",
   "name": "python3"
  },
  "language_info": {
   "codemirror_mode": {
    "name": "ipython",
    "version": 3
   },
   "file_extension": ".py",
   "mimetype": "text/x-python",
   "name": "python",
   "nbconvert_exporter": "python",
   "pygments_lexer": "ipython3",
   "version": "3.7.7"
  }
 },
 "nbformat": 4,
 "nbformat_minor": 4
}
